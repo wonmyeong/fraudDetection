{
 "cells": [
  {
   "cell_type": "code",
   "execution_count": 95,
   "id": "36f011e4-71d2-4b78-8045-c36994f0e273",
   "metadata": {},
   "outputs": [],
   "source": [
    "import pandas as pd\n",
    "import numpy as np\n",
    "import matplotlib.pyplot as plt\n",
    "from matplotlib import font_manager, rc\n",
    "plt.rcParams['font.family'] ='Malgun Gothic'\n",
    "plt.rcParams['axes.unicode_minus'] =False\n",
    "\n",
    "df=pd.read_csv(\"mom_df_ref\")"
   ]
  },
  {
   "cell_type": "code",
   "execution_count": 96,
   "id": "f85c7ae6-b280-49dc-b62b-40fb8e5da4e8",
   "metadata": {},
   "outputs": [],
   "source": [
    "hourly_counts = df['time'].value_counts().sort_index()\n",
    "# 시간대\n",
    "hours = hourly_counts.index.tolist()\n",
    "\n",
    "# 메시지 개수\n",
    "counts = hourly_counts.values.tolist()"
   ]
  },
  {
   "cell_type": "code",
   "execution_count": 97,
   "id": "8ef4736b-88c8-4053-90e2-c589ede2b950",
   "metadata": {
    "scrolled": true
   },
   "outputs": [
    {
     "data": {
      "image/png": "[encoded data removed]",
      "text/plain": [
       "<Figure size 1000x600 with 1 Axes>"
      ]
     },
     "metadata": {},
     "output_type": "display_data"
    }
   ],
   "source": [
    "plt.figure(figsize=(10,6))\n",
    "plt.bar(hours,counts)\n",
    "plt.title(\"시간대 별 메세지 개수\")\n",
    "plt.ylabel(\"메세지 개수\")\n",
    "plt.xlabel(\"시간\")\n",
    "plt.show()"
   ]
  },
  {
   "cell_type": "code",
   "execution_count": 98,
   "id": "db9a5c55-029c-413e-bde9-7ce7adf962df",
   "metadata": {},
   "outputs": [],
   "source": [
    "df = df[~df['Message'].str.contains('보이스톡|사진|동영상')]"
   ]
  },
  {
   "cell_type": "code",
   "execution_count": 99,
   "id": "b8198f82-0e88-4fe1-b910-e4c5c9aac636",
   "metadata": {},
   "outputs": [],
   "source": [
    "# df['time'] = df[\"time\"].apply(lambda x : x.split(\":\")[0])\n",
    "# df['Date']=df['Date'].apply(lambda x: ''.join(filter(str.isdigit, x))) + df['time'].astype(str)\n",
    "# group_df=df.groupby('Date')\n",
    "# for name, group in group_df:\n",
    "#     print(\"Date:\", name)\n",
    "#     print(group)\n",
    "#     print()"
   ]
  },
  {
   "cell_type": "code",
   "execution_count": 100,
   "id": "bf7ec5d5-bc4a-4a04-a815-be9a96cac9ad",
   "metadata": {
    "scrolled": true
   },
   "outputs": [
    {
     "name": "stdout",
     "output_type": "stream",
     "text": [
      "['가', '가까스로', '가령', '각', '각각', '각자', '각종', '갖고말하자면', '같다', '같이', '개의치않고', '거니와', '거바', '거의', '것', '것과 같이', '것들', '게다가', '게우다', '겨우', '견지에서', '결과에 이르다', '결국', '결론을 낼 수 있다', '겸사겸사', '고려하면', '고로', '곧', '공동으로', '과', '과연', '관계가 있다', '관계없이', '관련이 있다', '관하여', '관한', '관해서는', '구', '구체적으로', '구토하다', '그', '그들', '그때', '그래', '그래도', '그래서', '그러나', '그러니', '그러니까', '그러면', '그러므로', '그러한즉', '그런 까닭에', '그런데', '그런즉', '그럼', '그럼에도 불구하고', '그렇게 함으로써', '그렇지', '그렇지 않다면', '그렇지 않으면', '그렇지만', '그렇지않으면', '그리고', '그리하여', '그만이다', '그에 따르는', '그위에', '그저', '그중에서', '그치지 않다', '근거로', '근거하여', '기대여', '기점으로', '기준으로', '기타', '까닭으로', '까악', '까지', '까지 미치다', '까지도', '꽈당', '끙끙', '끼익', '나', '나머지는', '남들', '남짓', '너', '너희', '너희들', '네', '넷', '년', '논하지 않다', '놀라다', '누가 알겠는가', '누구', '다른', '다른 방면으로', '다만', '다섯', '다소', '다수', '다시 말하자면', '다시말하면', '다음', '다음에', '다음으로', '단지', '답다', '당신', '당장', '대로 하다', '대하면', '대하여', '대해 말하자면', '대해서', '댕그', '더구나', '더군다나', '더라도', '더불어', '더욱더', '더욱이는', '도달하다', '도착하다', '동시에', '동안', '된바에야', '된이상', '두번째로', '둘', '둥둥', '뒤따라', '뒤이어', '든간에', '들', '등', '등등', '딩동', '따라', '따라서', '따위', '따지지 않다', '딱', '때', '때가 되어', '때문에', '또', '또한', '뚝뚝', '라 해도', '령', '로', '로 인하여', '로부터', '로써', '륙', '를', '마음대로', '마저', '마저도', '마치', '막론하고', '만 못하다', '만약', '만약에', '만은 아니다', '만이 아니다', '만일', '만큼', '말하자면', '말할것도 없고', '매', '매번', '메쓰겁다', '몇', '모', '모두', '무렵', '무릎쓰고', '무슨', '무엇', '무엇때문에', '물론', '및', '바꾸어말하면', '바꾸어말하자면', '바꾸어서 말하면', '바꾸어서 한다면', '바꿔 말하면', '바로', '바와같이', '밖에 안된다', '반대로', '반대로 말하자면', '반드시', '버금', '보는데서', '보다더', '보드득', '본대로', '봐', '봐라', '부류의 사람들', '부터', '불구하고', '불문하고', '붕붕', '비걱거리다', '비교적', '비길수 없다', '비로소', '비록', '비슷하다', '비추어 보아', '비하면', '뿐만 아니라', '뿐만아니라', '뿐이다', '삐걱', '삐걱거리다', '사', '삼', '상대적으로 말하자면', '생각한대로', '설령', '설마', '설사', '셋', '소생', '소인', '솨', '쉿', '습니까', '습니다', '시각', '시간', '시작하여', '시초에', '시키다', '실로', '심지어', '아', '아니', '아니나다를가', '아니라면', '아니면', '아니었다면', '아래윗', '아무거나', '아무도', '아야', '아울러', '아이', '아이고', '아이구', '아이야', '아이쿠', '아하', '아홉', '안 그러면', '않기 위하여', '않기 위해서', '알 수 있다', '알았어', '앗', '앞에서', '앞의것', '야', '약간', '양자', '어', '어기여차', '어느', '어느 년도', '어느것', '어느곳', '어느때', '어느쪽', '어느해', '어디', '어때', '어떠한', '어떤', '어떤것', '어떤것들', '어떻게', '어떻해', '어이', '어째서', '어쨋든', '어쩔수 없다', '어찌', '어찌됏든', '어찌됏어', '어찌하든지', '어찌하여', '언제', '언젠가', '얼마', '얼마 안 되는 것', '얼마간', '얼마나', '얼마든지', '얼마만큼', '얼마큼', '엉엉', '에', '에 가서', '에 달려 있다', '에 대해', '에 있다', '에 한하다', '에게', '에서', '여', '여기', '여덟', '여러분', '여보시오', '여부', '여섯', '여전히', '여차', '연관되다', '연이서', '영', '영차', '옆사람', '예', '예를 들면', '예를 들자면', '예컨대', '예하면', '오', '오로지', '오르다', '오자마자', '오직', '오호', '오히려', '와', '와 같은 사람들', '와르르', '와아', '왜', '왜냐하면', '외에도', '요만큼', '요만한 것', '요만한걸', '요컨대', '우르르', '우리', '우리들', '우선', '우에 종합한것과같이', '운운', '월', '위에서 서술한바와같이', '위하여', '위해서', '윙윙', '육', '으로', '으로 인하여', '으로서', '으로써', '을', '응', '응당', '의', '의거하여', '의지하여', '의해', '의해되다', '의해서', '이', '이 되다', '이 때문에', '이 밖에', '이 외에', '이 정도의', '이것', '이곳', '이때', '이라면', '이래', '이러이러하다', '이러한', '이런', '이럴정도로', '이렇게 많은 것', '이렇게되면', '이렇게말하자면', '이렇구나', '이로 인하여', '이르기까지', '이리하여', '이만큼', '이번', '이봐', '이상', '이어서', '이었다', '이와 같다', '이와 같은', '이와 반대로', '이와같다면', '이외에도', '이용하여', '이유만으로', '이젠', '이지만', '이쪽', '이천구', '이천육', '이천칠', '이천팔', '인 듯하다', '인젠', '일', '일것이다', '일곱', '일단', '일때', '일반적으로', '일지라도', '임에 틀림없다', '입각하여', '입장에서', '잇따라', '있다', '자', '자기', '자기집', '자마자', '자신', '잠깐', '잠시', '저', '저것', '저것만큼', '저기', '저쪽', '저희', '전부', '전자', '전후', '점에서 보아', '정도에 이르다', '제', '제각기', '제외하고', '조금', '조차', '조차도', '졸졸', '좀', '좋아', '좍좍', '주룩주룩', '주저하지 않고', '줄은 몰랏다', '줄은모른다', '중에서', '중의하나', '즈음하여', '즉', '즉시', '지든지', '지만', '지말고', '진짜로', '쪽으로', '차라리', '참', '참나', '첫번째로', '쳇', '총적으로', '총적으로 말하면', '총적으로 보면', '칠', '콸콸', '쾅쾅', '쿵', '타다', '타인', '탕탕', '토하다', '통하여', '툭', '퉤', '틈타', '팍', '팔', '퍽', '펄렁', '하', '하게될것이다', '하게하다', '하겠는가', '하고 있다', '하고있었다', '하곤하였다', '하구나', '하기 때문에', '하기 위하여', '하기는한데', '하기만 하면', '하기보다는', '하기에', '하나', '하느니', '하는 김에', '하는 편이 낫다', '하는것도', '하는것만 못하다', '하는것이 낫다', '하는바', '하더라도', '하도다', '하도록시키다', '하도록하다', '하든지', '하려고하다', '하마터면', '하면 할수록', '하면된다', '하면서', '하물며', '하여금', '하여야', '하자마자', '하지 않는다면', '하지 않도록', '하지마', '하지마라', '하지만', '하하', '한 까닭에', '한 이유는', '한 후', '한다면', '한다면 몰라도', '한데', '한마디', '한적이있다', '한켠으로는', '한항목', '할 따름이다', '할 생각이다', '할 줄 안다', '할 지경이다', '할 힘이 있다', '할때', '할만하다', '할망정', '할뿐', '할수있다', '할수있어', '할줄알다', '할지라도', '할지언정', '함께', '해도된다', '해도좋다', '해봐요', '해서는 안된다', '해야한다', '해요', '했어요', '향하다', '향하여', '향해서', '허', '허걱', '허허', '헉', '헉헉', '헐떡헐떡', '형식으로 쓰여', '혹시', '혹은', '혼자', '훨씬', '휘익', '휴', '흐흐', '흥', '힘입어']\n"
     ]
    }
   ],
   "source": [
    "with open(\"C:\\\\Users\\\\wmk51\\\\fraudDetection\\\\stopwords-ko.txt\", 'r', encoding='utf-8') as file:\n",
    "    kor_stopword = file.readlines()\n",
    "kor_stopwords=[]\n",
    "for word in kor_stopword:\n",
    "    kor_stopwords.append(word.replace(\"\\n\",\"\"))\n",
    "\n",
    "\n",
    "print(kor_stopwords)\n"
   ]
  },
  {
   "cell_type": "code",
   "execution_count": 107,
   "id": "c941693d-64c1-40d7-80c1-36a1d66f1781",
   "metadata": {},
   "outputs": [],
   "source": [
    "df['time']=df['time'].apply(lambda x : x.split(':')[0])\n",
    "df['Date'] = df['Date'].apply(lambda x: ''.join(filter(str.isdigit, x))) + df['time'].astype(str)"
   ]
  },
  {
   "cell_type": "code",
   "execution_count": 108,
   "id": "55c70dda-2119-4903-a10d-bd08d3a5fe30",
   "metadata": {},
   "outputs": [
    {
     "data": {
      "text/html": [
       "<div>\n",
       "<style scoped>\n",
       "    .dataframe tbody tr th:only-of-type {\n",
       "        vertical-align: middle;\n",
       "    }\n",
       "\n",
       "    .dataframe tbody tr th {\n",
       "        vertical-align: top;\n",
       "    }\n",
       "\n",
       "    .dataframe thead th {\n",
       "        text-align: right;\n",
       "    }\n",
       "</style>\n",
       "<table border=\"1\" class=\"dataframe\">\n",
       "  <thead>\n",
       "    <tr style=\"text-align: right;\">\n",
       "      <th></th>\n",
       "      <th>Date</th>\n",
       "      <th>time</th>\n",
       "      <th>Sender</th>\n",
       "      <th>Message</th>\n",
       "      <th>num_unique_words</th>\n",
       "      <th>num_stopwords</th>\n",
       "      <th>polite_text</th>\n",
       "      <th>tags</th>\n",
       "      <th>has_S_series</th>\n",
       "      <th>has_W_series</th>\n",
       "    </tr>\n",
       "  </thead>\n",
       "  <tbody>\n",
       "    <tr>\n",
       "      <th>0</th>\n",
       "      <td>202391415</td>\n",
       "      <td>15</td>\n",
       "      <td>원명</td>\n",
       "      <td>수업 중이에요??</td>\n",
       "      <td>5</td>\n",
       "      <td>1</td>\n",
       "      <td>True</td>\n",
       "      <td>[NNG, NNB, VCP, EF, SF]</td>\n",
       "      <td>1</td>\n",
       "      <td>0</td>\n",
       "    </tr>\n",
       "    <tr>\n",
       "      <th>1</th>\n",
       "      <td>202391415</td>\n",
       "      <td>15</td>\n",
       "      <td>원명</td>\n",
       "      <td>엄마</td>\n",
       "      <td>1</td>\n",
       "      <td>0</td>\n",
       "      <td>False</td>\n",
       "      <td>[NNG]</td>\n",
       "      <td>0</td>\n",
       "      <td>0</td>\n",
       "    </tr>\n",
       "    <tr>\n",
       "      <th>2</th>\n",
       "      <td>202391416</td>\n",
       "      <td>16</td>\n",
       "      <td>원명</td>\n",
       "      <td>elsis</td>\n",
       "      <td>1</td>\n",
       "      <td>0</td>\n",
       "      <td>False</td>\n",
       "      <td>[SL]</td>\n",
       "      <td>1</td>\n",
       "      <td>0</td>\n",
       "    </tr>\n",
       "    <tr>\n",
       "      <th>3</th>\n",
       "      <td>202392415</td>\n",
       "      <td>15</td>\n",
       "      <td>원명</td>\n",
       "      <td>전화할게요</td>\n",
       "      <td>3</td>\n",
       "      <td>1</td>\n",
       "      <td>True</td>\n",
       "      <td>[NNG, XSV, EF]</td>\n",
       "      <td>0</td>\n",
       "      <td>0</td>\n",
       "    </tr>\n",
       "    <tr>\n",
       "      <th>4</th>\n",
       "      <td>202392415</td>\n",
       "      <td>15</td>\n",
       "      <td>원명</td>\n",
       "      <td>?</td>\n",
       "      <td>1</td>\n",
       "      <td>0</td>\n",
       "      <td>False</td>\n",
       "      <td>[SF]</td>\n",
       "      <td>1</td>\n",
       "      <td>0</td>\n",
       "    </tr>\n",
       "  </tbody>\n",
       "</table>\n",
       "</div>"
      ],
      "text/plain": [
       "        Date time Sender    Message  num_unique_words  num_stopwords  \\\n",
       "0  202391415   15     원명  수업 중이에요??                 5              1   \n",
       "1  202391415   15     원명         엄마                 1              0   \n",
       "2  202391416   16     원명      elsis                 1              0   \n",
       "3  202392415   15     원명      전화할게요                 3              1   \n",
       "4  202392415   15     원명          ?                 1              0   \n",
       "\n",
       "   polite_text                     tags  has_S_series  has_W_series  \n",
       "0         True  [NNG, NNB, VCP, EF, SF]             1             0  \n",
       "1        False                    [NNG]             0             0  \n",
       "2        False                     [SL]             1             0  \n",
       "3         True           [NNG, XSV, EF]             0             0  \n",
       "4        False                     [SF]             1             0  "
      ]
     },
     "execution_count": 108,
     "metadata": {},
     "output_type": "execute_result"
    }
   ],
   "source": [
    "df.head()"
   ]
  },
  {
   "cell_type": "code",
   "execution_count": 103,
   "id": "bc37a18b-05d6-4923-9ffe-6f08ff8ac958",
   "metadata": {},
   "outputs": [],
   "source": [
    "#존댓말의 유무를 데이터 전처리하는 과정\n",
    "from kiwipiepy import Kiwi\n",
    "\n",
    "kiwi = Kiwi()\n",
    "formal_tokens = [\n",
    "    line.strip() for line in open(\"C:\\\\Users\\\\wmk51\\\\fraudDetection\\\\kiwi_formal_token.txt\", \"r\", encoding=\"utf-8\")\n",
    "]\n",
    "\n",
    "def tokenize_kiwi(sentence: str):\n",
    "    return [(i.form, i.tag) for i in kiwi.tokenize(sentence)]\n",
    "\n",
    "\n",
    "def is_formal_token(text):\n",
    "    \n",
    "    for i in tokenize_kiwi(text):\n",
    "        if str(i) in formal_tokens:\n",
    "            return True\n",
    "    return False"
   ]
  },
  {
   "cell_type": "code",
   "execution_count": 105,
   "id": "70469efa-29f3-48a9-b3fa-5f95d4885887",
   "metadata": {},
   "outputs": [],
   "source": [
    "# 글자 단위로 카운트\n",
    "num_words = []\n",
    "\n",
    "# for i in range(0,len(df.Message)):\n",
    "#     tokens = kiwi.tokenize(df['Message'][i])\n",
    "#     num_words.append(sum(token.len for token in tokens))\n",
    "# df['num_word'] = num_words\n",
    "\n",
    "#number of unique words in the text\n",
    "# 단어 당 의미에 의미가 있는 데이터이기 때문에 \n",
    "df[\"num_unique_words\"] = df['Message'].apply(lambda x: len(kiwi.tokenize(x)))\n",
    "\n",
    "#number of stopwords in the text\n",
    "df['num_stopwords'] = df['Message'].apply(lambda x : len([w for w in kiwi.tokenize(x) if w[0] in kor_stopwords]))\n",
    "\n",
    "#존댓말 유무\n",
    "df['polite_text'] = df['Message'].apply(lambda x : is_formal_token(x))\n",
    "\n",
    "#품사 태깅\n",
    "df['tags'] = df['Message'].apply(lambda x : [token[1] for token in tokenize_kiwi(x)])\n",
    "\n",
    "#부호,외국어,특수문자 컬럼(tags에서 S로 시작)\n",
    "df['has_S_series'] = df['tags'].apply(lambda x: 1 if any(tag.startswith('S') for tag in x) else 0)\n",
    "\n",
    "#웹(이메일,URL,맨션,해시태그,일련번호 ) 개수(tags에서 W로 시)\n",
    "df['has_W_series'] = df['tags'].apply(lambda x: 1 if any(tag.startswith('W') for tag in x) else 0)"
   ]
  },
  {
   "cell_type": "code",
   "execution_count": 106,
   "id": "4d7b5ea9-edc3-4b06-83cd-68002fcbbfd4",
   "metadata": {
    "scrolled": true
   },
   "outputs": [
    {
     "data": {
      "text/html": [
       "<div>\n",
       "<style scoped>\n",
       "    .dataframe tbody tr th:only-of-type {\n",
       "        vertical-align: middle;\n",
       "    }\n",
       "\n",
       "    .dataframe tbody tr th {\n",
       "        vertical-align: top;\n",
       "    }\n",
       "\n",
       "    .dataframe thead th {\n",
       "        text-align: right;\n",
       "    }\n",
       "</style>\n",
       "<table border=\"1\" class=\"dataframe\">\n",
       "  <thead>\n",
       "    <tr style=\"text-align: right;\">\n",
       "      <th></th>\n",
       "      <th>Date</th>\n",
       "      <th>time</th>\n",
       "      <th>Sender</th>\n",
       "      <th>Message</th>\n",
       "      <th>num_unique_words</th>\n",
       "      <th>num_stopwords</th>\n",
       "      <th>polite_text</th>\n",
       "      <th>tags</th>\n",
       "      <th>has_S_series</th>\n",
       "      <th>has_W_series</th>\n",
       "    </tr>\n",
       "  </thead>\n",
       "  <tbody>\n",
       "    <tr>\n",
       "      <th>0</th>\n",
       "      <td>2023년 9월 14일</td>\n",
       "      <td>15</td>\n",
       "      <td>원명</td>\n",
       "      <td>수업 중이에요??</td>\n",
       "      <td>5</td>\n",
       "      <td>1</td>\n",
       "      <td>True</td>\n",
       "      <td>[NNG, NNB, VCP, EF, SF]</td>\n",
       "      <td>1</td>\n",
       "      <td>0</td>\n",
       "    </tr>\n",
       "    <tr>\n",
       "      <th>1</th>\n",
       "      <td>2023년 9월 14일</td>\n",
       "      <td>15</td>\n",
       "      <td>원명</td>\n",
       "      <td>엄마</td>\n",
       "      <td>1</td>\n",
       "      <td>0</td>\n",
       "      <td>False</td>\n",
       "      <td>[NNG]</td>\n",
       "      <td>0</td>\n",
       "      <td>0</td>\n",
       "    </tr>\n",
       "    <tr>\n",
       "      <th>2</th>\n",
       "      <td>2023년 9월 14일</td>\n",
       "      <td>16</td>\n",
       "      <td>원명</td>\n",
       "      <td>elsis</td>\n",
       "      <td>1</td>\n",
       "      <td>0</td>\n",
       "      <td>False</td>\n",
       "      <td>[SL]</td>\n",
       "      <td>1</td>\n",
       "      <td>0</td>\n",
       "    </tr>\n",
       "    <tr>\n",
       "      <th>3</th>\n",
       "      <td>2023년 9월 24일</td>\n",
       "      <td>15</td>\n",
       "      <td>원명</td>\n",
       "      <td>전화할게요</td>\n",
       "      <td>3</td>\n",
       "      <td>1</td>\n",
       "      <td>True</td>\n",
       "      <td>[NNG, XSV, EF]</td>\n",
       "      <td>0</td>\n",
       "      <td>0</td>\n",
       "    </tr>\n",
       "    <tr>\n",
       "      <th>4</th>\n",
       "      <td>2023년 9월 24일</td>\n",
       "      <td>15</td>\n",
       "      <td>원명</td>\n",
       "      <td>?</td>\n",
       "      <td>1</td>\n",
       "      <td>0</td>\n",
       "      <td>False</td>\n",
       "      <td>[SF]</td>\n",
       "      <td>1</td>\n",
       "      <td>0</td>\n",
       "    </tr>\n",
       "  </tbody>\n",
       "</table>\n",
       "</div>"
      ],
      "text/plain": [
       "           Date time Sender    Message  num_unique_words  num_stopwords  \\\n",
       "0  2023년 9월 14일   15     원명  수업 중이에요??                 5              1   \n",
       "1  2023년 9월 14일   15     원명         엄마                 1              0   \n",
       "2  2023년 9월 14일   16     원명      elsis                 1              0   \n",
       "3  2023년 9월 24일   15     원명      전화할게요                 3              1   \n",
       "4  2023년 9월 24일   15     원명          ?                 1              0   \n",
       "\n",
       "   polite_text                     tags  has_S_series  has_W_series  \n",
       "0         True  [NNG, NNB, VCP, EF, SF]             1             0  \n",
       "1        False                    [NNG]             0             0  \n",
       "2        False                     [SL]             1             0  \n",
       "3         True           [NNG, XSV, EF]             0             0  \n",
       "4        False                     [SF]             1             0  "
      ]
     },
     "execution_count": 106,
     "metadata": {},
     "output_type": "execute_result"
    }
   ],
   "source": [
    "df.head()"
   ]
  },
  {
   "cell_type": "code",
   "execution_count": 45,
   "id": "693e9323-7533-460b-80e1-52bf89812c81",
   "metadata": {},
   "outputs": [],
   "source": [
    "\n",
    "token=kiwi.tokenize(df['Message'][0])"
   ]
  },
  {
   "cell_type": "code",
   "execution_count": 47,
   "id": "5555f704-89b6-48fe-b78e-aae7d8e886e3",
   "metadata": {},
   "outputs": [],
   "source": [
    "s=sum(tok.len for tok in token)"
   ]
  },
  {
   "cell_type": "code",
   "execution_count": 48,
   "id": "f124cf63-4037-4537-be42-3a89567d06c3",
   "metadata": {},
   "outputs": [],
   "source": [
    "num_words = []\n",
    "\n",
    "for i in range(0,len(df.Message)):\n",
    "    tokens = kiwi.tokenize(df['Message'][i])\n",
    "    num_words.append(sum(token.len for token in tokens))"
   ]
  },
  {
   "cell_type": "code",
   "execution_count": null,
   "id": "4cea8289-c888-4f42-9d71-ae25135dd6ad",
   "metadata": {},
   "outputs": [],
   "source": []
  }
 ],
 "metadata": {
  "kernelspec": {
   "display_name": "Python 3 (ipykernel)",
   "language": "python",
   "name": "python3"
  },
  "language_info": {
   "codemirror_mode": {
    "name": "ipython",
    "version": 3
   },
   "file_extension": ".py",
   "mimetype": "text/x-python",
   "name": "python",
   "nbconvert_exporter": "python",
   "pygments_lexer": "ipython3",
   "version": "3.11.7"
  }
 },
 "nbformat": 4,
 "nbformat_minor": 5
}
