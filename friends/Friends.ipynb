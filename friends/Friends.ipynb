{
 "cells": [
  {
   "cell_type": "code",
   "execution_count": 1,
   "id": "e07b1a51-a67c-4c5a-a4de-c9c25828ccf5",
   "metadata": {},
   "outputs": [],
   "source": [
    "import pandas as pd\n",
    "import numpy as np\n",
    "import matplotlib.pyplot as plt\n",
    "import csv\n",
    "import re\n",
    "\n",
    "# 입력 파일 경로\n",
    "\n",
    "def convert_to_24_hour_format(time_str):\n",
    "    if \"오후\" in time_str:\n",
    "        time_str = time_str.replace(\"오후\", \"\")\n",
    "        hour = int(time_str.split(':')[0]) + 12\n",
    "    else:\n",
    "        time_str = time_str.replace(\"오전\", \"\")\n",
    "        hour = int(time_str.split(':')[0])\n",
    "\n",
    "    return '{:02d}:00'.format(hour)\n",
    "\n",
    "\n",
    "def refine_data_to_df(input_file):\n",
    "    \n",
    "    # 데이터 추출\n",
    "    data = []\n",
    "    with open(input_file, 'r', encoding='utf-8') as file:\n",
    "            lines = file.readlines()\n",
    "    for line in lines:\n",
    "        if line.startswith('---------------'):\n",
    "            current_date = re.search(r'\\d{4}년 \\d{1,2}월 \\d{1,2}일', line).group()\n",
    "        else:\n",
    "            match = re.match(r'\\[(.*?)\\] \\[(.*?)\\] (.+)', line)\n",
    "            if match:\n",
    "                sender = match.group(1)\n",
    "                time = convert_to_24_hour_format(match.group(2))\n",
    "                message = match.group(3)\n",
    "                data.append([current_date,time, sender, message])\n",
    "    \n",
    "    return data"
   ]
  },
  {
   "cell_type": "code",
   "execution_count": 2,
   "id": "c36a997e-56f4-4551-8b49-624b38eeb73d",
   "metadata": {},
   "outputs": [],
   "source": [
    "friends_list=['daewon','donggyu','kyunghun','marie','minji','seoungji','seoungmi']\n",
    "\n",
    "\n",
    "for friend in friends_list:\n",
    "    file_name =  friend + \"_kakao.txt\"\n",
    "    df = pd.DataFrame(refine_data_to_df(file_name), columns=['Date', 'time','Sender', 'Message'])\n",
    "    ref_df=df[df['Sender'] == '원명']\n",
    "    ref_df.to_csv(friend + \"_df_ref\",index=False)"
   ]
  },
  {
   "cell_type": "code",
   "execution_count": null,
   "id": "4ccbeeb6-3fa8-4a20-8a03-fa41de97fd5a",
   "metadata": {},
   "outputs": [],
   "source": []
  },
  {
   "cell_type": "code",
   "execution_count": null,
   "id": "88053a91-7879-4d1b-8912-ad521b088c76",
   "metadata": {},
   "outputs": [],
   "source": []
  },
  {
   "cell_type": "code",
   "execution_count": null,
   "id": "2fc55719-0298-4082-9199-108f71f4721b",
   "metadata": {},
   "outputs": [],
   "source": []
  }
 ],
 "metadata": {
  "kernelspec": {
   "display_name": "Python 3 (ipykernel)",
   "language": "python",
   "name": "python3"
  },
  "language_info": {
   "codemirror_mode": {
    "name": "ipython",
    "version": 3
   },
   "file_extension": ".py",
   "mimetype": "text/x-python",
   "name": "python",
   "nbconvert_exporter": "python",
   "pygments_lexer": "ipython3",
   "version": "3.11.7"
  }
 },
 "nbformat": 4,
 "nbformat_minor": 5
}
