{
 "cells": [
  {
   "cell_type": "code",
   "execution_count": 1,
   "id": "892e7686-83a8-419e-8aa9-d55f7e01c0f6",
   "metadata": {},
   "outputs": [],
   "source": [
    "import pandas as pd\n",
    "import numpy as np\n",
    "import matplotlib.pyplot as plt"
   ]
  },
  {
   "cell_type": "code",
   "execution_count": 12,
   "id": "44e75412-2e39-4814-a120-a3525b245cd7",
   "metadata": {},
   "outputs": [],
   "source": [
    "import csv\n",
    "import re\n",
    "\n",
    "# 입력 파일 경로\n",
    "input_file = \"./family/mother_kakao.txt\"\n",
    "# 출력 CSV 파일 경로\n",
    "# output_file = \"./family/mother_kakao_rf.csv\"\n",
    "\n",
    "# 텍스트를 줄 단위로 분리\n",
    "lines = input_file.strip().split('\\n')\n",
    "\n",
    "# 데이터 추출\n",
    "data = []\n",
    "with open(input_file, 'r', encoding='utf-8') as file:\n",
    "        lines = file.readlines()\n",
    "for line in lines:\n",
    "    if line.startswith('---------------'):\n",
    "        current_date = re.search(r'\\d{4}년 \\d{1,2}월 \\d{1,2}일', line).group()\n",
    "    else:\n",
    "        match = re.match(r'\\[(.*?)\\] \\[(.*?)\\] (.+)', line)\n",
    "        if match:\n",
    "            sender = match.group(1)\n",
    "            time = match.group(2)\n",
    "            message = match.group(3)\n",
    "            data.append([current_date,time, sender, message])\n",
    "\n",
    "# 데이터 프레임 생성\n",
    "df = pd.DataFrame(data, columns=['Date', 'time','Sender', 'Message'])\n",
    "df.to_csv('mother_kakao_rf')\n"
   ]
  },
  {
   "cell_type": "code",
   "execution_count": 18,
   "id": "ea4d951d-7e6c-41e2-9a57-0776803354ec",
   "metadata": {},
   "outputs": [],
   "source": [
    "df = pd.read_csv('mother_kakao_rf')\n",
    "df.drop(columns =['Unnamed: 0'],inplace=True)"
   ]
  },
  {
   "cell_type": "code",
   "execution_count": 23,
   "id": "d1f75b78-bc01-40ff-9d38-2e02a0867754",
   "metadata": {},
   "outputs": [],
   "source": [
    "#원명의 메세지만 모아놓은 데이터 프레임\n",
    "\n",
    "won2mom_df=df[df['Sender'] == '원명']"
   ]
  },
  {
   "cell_type": "code",
   "execution_count": null,
   "id": "30d21ad7-d541-4f1f-a08f-e11b97040c98",
   "metadata": {},
   "outputs": [],
   "source": []
  }
 ],
 "metadata": {
  "kernelspec": {
   "display_name": "Python 3 (ipykernel)",
   "language": "python",
   "name": "python3"
  },
  "language_info": {
   "codemirror_mode": {
    "name": "ipython",
    "version": 3
   },
   "file_extension": ".py",
   "mimetype": "text/x-python",
   "name": "python",
   "nbconvert_exporter": "python",
   "pygments_lexer": "ipython3",
   "version": "3.11.7"
  }
 },
 "nbformat": 4,
 "nbformat_minor": 5
}
